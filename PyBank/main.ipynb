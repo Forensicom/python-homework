{
 "cells": [
  {
   "cell_type": "code",
   "execution_count": 2,
   "id": "c806d4e1-693f-41b4-ad28-eea323f99069",
   "metadata": {},
   "outputs": [
    {
     "name": "stdout",
     "output_type": "stream",
     "text": [
      "Financial Analysis\n",
      "_____________________\n",
      "\n",
      "Total Months: 86\n",
      "Total: $ 38382578\n",
      "Total Profit is $ 45710004\n",
      "Total Losses are $ -7327426\n",
      "Greatest Decrease in Profits: $ -2196167\n",
      "Greatest Increase in Profits: $ 1926159\n",
      "Average Change: $ -2315.12\n"
     ]
    }
   ],
   "source": [
    "# Module 2 Assignment - Larry Gagnon\n",
    "# Only a few hours before this was due I found out that we were not supposed to use Pandas. \n",
    "# I did not see that in the instructions. No time to change it all.\n",
    "import pandas as pd\n",
    "import numpy as npy\n",
    "from pathlib import Path\n",
    "\n",
    "# The total number of months included in the dataset.\n",
    "data_csv = pd.read_csv(\"budget_data.csv\")\n",
    "record_count = data_csv['Profit/Losses'].count()\n",
    "print (f\"Financial Analysis\")\n",
    "print (\"_____________________\")\n",
    "print(f\"\")\n",
    "print (f\"Total Months: \" +  str(record_count))\n",
    "\n",
    "#Total sum\n",
    "total = (data_csv['Profit/Losses']).sum()\n",
    "print (f\"Total: $\", + (total))\n",
    "\n",
    "\n",
    "# The net total amount of Profit/Losses over the entire period.\n",
    "total_profit = data_csv[data_csv.iloc[:,1] > 0] \n",
    "total_profit = (total_profit['Profit/Losses']).sum()\n",
    "print (f\"Total Profit is $\", + (total_profit))\n",
    "\n",
    "total_loss = data_csv[data_csv.iloc[:,1] < 0]\n",
    "total_loss = (total_loss['Profit/Losses']).sum()      \n",
    "print (f\"Total Losses are $\", + (total_loss))\n",
    "\n",
    "\n",
    "# The greatest decrease in profits (date and amount) over the entire period.\n",
    "data_csv['Profit/Losses Diff'] =  data_csv['Profit/Losses'].diff()\n",
    "newvar = (data_csv['Profit/Losses Diff'].min())\n",
    "print (f\"Greatest Decrease in Profits: $\", + (round(newvar)))\n",
    "# I could not figure out how to pull the corresponding date value out of column 1.\n",
    "\n",
    "#The greatest increase in profits (date and amount) over the entire period.\n",
    "data_csv['Profit/Losses Diff'] =  data_csv['Profit/Losses'].diff()\n",
    "newvar2 = (data_csv['Profit/Losses Diff'].max())\n",
    "print (f\"Greatest Increase in Profits: $\", + (round(newvar2)))\n",
    "# I could not figure out how to pull the corresponding date value out of column 1.\n",
    "\n",
    "#The average of the changes in Profit/Losses over the entire period.\n",
    "newvar3 = (data_csv['Profit/Losses Diff'].mean())\n",
    "print (f\"Average Change: $\", + (round(newvar3, 2)))\n"
   ]
  },
  {
   "cell_type": "code",
   "execution_count": null,
   "id": "79d7ec45-3099-45c6-8ed0-56a2c7aff410",
   "metadata": {},
   "outputs": [],
   "source": []
  }
 ],
 "metadata": {
  "kernelspec": {
   "display_name": "Python 3 (ipykernel)",
   "language": "python",
   "name": "python3"
  },
  "language_info": {
   "codemirror_mode": {
    "name": "ipython",
    "version": 3
   },
   "file_extension": ".py",
   "mimetype": "text/x-python",
   "name": "python",
   "nbconvert_exporter": "python",
   "pygments_lexer": "ipython3",
   "version": "3.9.13"
  }
 },
 "nbformat": 4,
 "nbformat_minor": 5
}
